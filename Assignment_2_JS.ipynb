{
 "cells": [
  {
   "cell_type": "markdown",
   "metadata": {},
   "source": [
    "<h3>Q no 1:  Write a python program to find number of occurrences of given number in a list with out using built-in methods</h3>\n",
    "<h4>**1 generate a list of some random num which is repeated again and again</h4>\n",
    "<h4>**2 take user input any number</h4>\n",
    "<h4>**3 find the number of occurrences of that num in your list</h4>\n",
    "<h4>**4 print some message to user with that result</h4>"
   ]
  },
  {
   "cell_type": "code",
   "execution_count": 10,
   "metadata": {},
   "outputs": [
    {
     "name": "stdout",
     "output_type": "stream",
     "text": [
      "Please enter your number: 99\n",
      "Total Occurances:  4\n"
     ]
    }
   ],
   "source": [
    "randomNums=[12,55,99,32,1,4,3,98,75,1,99,99,99]\n",
    "Num = input('Please enter your number: ')\n",
    "Occurances=int(0)\n",
    "for x in range(1,len(randomNums)):\n",
    "    if randomNums[x]==int(Num):\n",
    "        Occurances+=1\n",
    "print('Total Occurances: ', Occurances)"
   ]
  },
  {
   "cell_type": "code",
   "execution_count": null,
   "metadata": {},
   "outputs": [],
   "source": []
  },
  {
   "cell_type": "markdown",
   "metadata": {},
   "source": [
    "<h3>Q no 2:   [\"www.zframez.com\", \"www.wikipedia.org\", \"www.asp.net\", \"www.abcd.in\"]\n",
    "<br/><br/><br/><br/><br/>\n",
    "Write a python program to print website suffixes (com , org , net ,in) from this list\n",
    "</h3>"
   ]
  },
  {
   "cell_type": "code",
   "execution_count": 84,
   "metadata": {},
   "outputs": [
    {
     "name": "stdout",
     "output_type": "stream",
     "text": [
      "com\n",
      "org\n",
      "net\n",
      "in\n",
      "www\n"
     ]
    }
   ],
   "source": [
    "sample = [\"www.zframez.com\", \"www.wikipedia.org\", \"www.asp.net\", \"www.abcd.in\", \"www\"] \n",
    "\n",
    "for s in sample:\n",
    "    t = s.rfind('.') #works just like rindex - except rindex throws an exception when string not found\n",
    "    print(s[t+1:])"
   ]
  },
  {
   "cell_type": "code",
   "execution_count": null,
   "metadata": {},
   "outputs": [],
   "source": []
  },
  {
   "cell_type": "markdown",
   "metadata": {},
   "source": [
    "<h3> Q no 3 : Write a program which can compute the factorial of a given numbers.</h3>\n",
    "<br/>\n",
    "<br/>\n",
    "<h4>**1 first take user input any number</h4>\n",
    "<h4>**2 calculate factorial of that input and then print the result to user</h4>"
   ]
  },
  {
   "cell_type": "code",
   "execution_count": 40,
   "metadata": {},
   "outputs": [
    {
     "name": "stdout",
     "output_type": "stream",
     "text": [
      "Please enter a number for which a Factorial is to be calculated: 6\n",
      "1\n",
      "2\n",
      "3\n",
      "4\n",
      "5\n",
      "6\n",
      "The Factorial of 6 is 720\n"
     ]
    }
   ],
   "source": [
    "inputNum = int(input('Please enter a number for which a Factorial is to be calculated: '))\n",
    "answer = int(0)\n",
    "for x in range(1,inputNum+1):\n",
    "    answer = int(x) * max(answer,1) \n",
    "    print(x)\n",
    "print ('The Factorial of', inputNum ,'is',answer)"
   ]
  },
  {
   "cell_type": "code",
   "execution_count": null,
   "metadata": {},
   "outputs": [],
   "source": []
  },
  {
   "cell_type": "code",
   "execution_count": null,
   "metadata": {},
   "outputs": [],
   "source": []
  },
  {
   "cell_type": "code",
   "execution_count": null,
   "metadata": {},
   "outputs": [],
   "source": []
  },
  {
   "cell_type": "markdown",
   "metadata": {},
   "source": [
    "<h3>Q 4 (a) :  If you could invite anyone, living or deceased, to dinner, who\n",
    "would you invite? Make a list that includes at least three people you’d like to\n",
    "invite to dinner. Then use your list to print a message to each person, inviting\n",
    "them to dinner.</h3>"
   ]
  },
  {
   "cell_type": "code",
   "execution_count": 45,
   "metadata": {},
   "outputs": [
    {
     "name": "stdout",
     "output_type": "stream",
     "text": [
      "Guest1 is cordially invited for dinnner tonight!\n",
      "Guest2 is cordially invited for dinnner tonight!\n",
      "Guest3 is cordially invited for dinnner tonight!\n",
      "Guest4 is cordially invited for dinnner tonight!\n"
     ]
    }
   ],
   "source": [
    "guests = ['Guest1','Guest2','Guest3','Guest4']\n",
    "for x in guests:\n",
    "    print(x,\"is cordially invited for dinnner tonight!\")"
   ]
  },
  {
   "cell_type": "code",
   "execution_count": null,
   "metadata": {},
   "outputs": [],
   "source": []
  },
  {
   "cell_type": "code",
   "execution_count": null,
   "metadata": {},
   "outputs": [],
   "source": []
  },
  {
   "cell_type": "markdown",
   "metadata": {},
   "source": [
    "<h3>Q 4 (b) : You just heard that one of your guests can’t make the\n",
    "dinner, so you need to send out a new set of invitations. You’ll have to think of\n",
    "someone else to invite.<br/></br><br/>\n",
    "•\t Start with your program from Q 4 (a). Add a print statement at the\n",
    "end of your program stating the name of the guest who can’t make it.<br/></br><br/>\n",
    "•\t Modify your list, replacing the name of the guest who can’t make it with\n",
    "the name of the new person you are inviting.<br/></br><br/>\n",
    "•\t Print a second set of invitation messages, one for each person who is still\n",
    "in your list.<br/></br><br/></h3>"
   ]
  },
  {
   "cell_type": "code",
   "execution_count": 50,
   "metadata": {},
   "outputs": [
    {
     "name": "stdout",
     "output_type": "stream",
     "text": [
      "Guest1 is cordially invited for dinnner tonight!\n",
      "Guest2 is cordially invited for dinnner tonight!\n",
      "Guest3 is cordially invited for dinnner tonight!\n",
      "Guest4 is cordially invited for dinnner tonight!\n",
      "Guest3 is unable to make it tonight\n",
      "Guest1 is cordially invited for dinnner tonight!\n",
      "Guest2 is cordially invited for dinnner tonight!\n",
      "Guest4 is cordially invited for dinnner tonight!\n",
      "NewGuest is cordially invited for dinnner tonight!\n"
     ]
    }
   ],
   "source": [
    "guests = ['Guest1','Guest2','Guest3','Guest4']\n",
    "for x in guests:\n",
    "    print(x,\"is cordially invited for dinnner tonight!\")\n",
    "print(guests[2],'is unable to make it tonight')\n",
    "guests.remove(guests[2])\n",
    "guests.append('NewGuest')\n",
    "for x in guests:\n",
    "    print(x,\"is cordially invited for dinnner tonight!\")"
   ]
  },
  {
   "cell_type": "code",
   "execution_count": null,
   "metadata": {},
   "outputs": [],
   "source": []
  },
  {
   "cell_type": "code",
   "execution_count": null,
   "metadata": {},
   "outputs": [],
   "source": []
  },
  {
   "cell_type": "markdown",
   "metadata": {},
   "source": [
    "<h3>Q 4 (c) : You just found a bigger dinner table, so now more space is\n",
    "available. Think of three more guests to invite to dinner.<br/></br><br/>\n",
    "•\t Start with your program from Q 4 (a) and (b) Add a print\n",
    "statement to the end of your program informing people that you found a\n",
    "bigger dinner table.<br/></br><br/>\n",
    "•\t Use insert() to add one new guest to the beginning of your list.<br/></br><br/>\n",
    "•\t Use insert() to add one new guest to the middle of your list.<br/></br><br/>\n",
    "•\t Use append() to add one new guest to the end of your list.<br/></br><br/>\n",
    "•\t Print a new set of invitation messages, one for each person in your list.<br/></br><br/></h3>"
   ]
  },
  {
   "cell_type": "code",
   "execution_count": 69,
   "metadata": {},
   "outputs": [
    {
     "name": "stdout",
     "output_type": "stream",
     "text": [
      "Guest1 is cordially invited for dinnner tonight!\n",
      "Guest2 is cordially invited for dinnner tonight!\n",
      "Guest3 is cordially invited for dinnner tonight!\n",
      "Guest4 is cordially invited for dinnner tonight!\n",
      "Guest3 is unable to make it tonight\n",
      "Guest1 is cordially invited for dinnner tonight!\n",
      "Guest2 is cordially invited for dinnner tonight!\n",
      "Guest4 is cordially invited for dinnner tonight!\n",
      "NewGuest is cordially invited for dinnner tonight!\n",
      "Guys I found a bigger dining table - More guests to be invited now!\n",
      "['NewGuest', 'Guest1', 'Guest2', 'Guest4', 'NewGuest']\n",
      "2\n",
      "['NewGuest', 'Guest1', 'addedGuestMiddle', 'Guest2', 'Guest4', 'NewGuest']\n",
      "['NewGuest', 'Guest1', 'addedGuestMiddle', 'Guest2', 'Guest4', 'NewGuest', 'LastGuestAppended']\n"
     ]
    }
   ],
   "source": [
    "guests = ['Guest1','Guest2','Guest3','Guest4']\n",
    "for x in guests:\n",
    "    print(x,\"is cordially invited for dinnner tonight!\")\n",
    "print(guests[2],'is unable to make it tonight')\n",
    "guests.remove(guests[2])\n",
    "guests.append('NewGuest')\n",
    "for x in guests:\n",
    "    print(x,\"is cordially invited for dinnner tonight!\")\n",
    "print('Guys I found a bigger dining table - More guests to be invited now!')\n",
    "guests.insert(0,\"NewGuest\")\n",
    "print(guests)\n",
    "print(round(len(guests)/2))\n",
    "guests.insert(round(len(guests)/2),'addedGuestMiddle')\n",
    "print(guests)\n",
    "guests.append('LastGuestAppended')\n",
    "print(guests)"
   ]
  },
  {
   "cell_type": "code",
   "execution_count": null,
   "metadata": {},
   "outputs": [],
   "source": []
  },
  {
   "cell_type": "code",
   "execution_count": null,
   "metadata": {},
   "outputs": [],
   "source": []
  },
  {
   "cell_type": "markdown",
   "metadata": {},
   "source": [
    "<h5> Q 5 : Here you have some data in variable below, your task is to make a list of specific word Surah then print the list and length of list</h5>\n"
   ]
  },
  {
   "cell_type": "code",
   "execution_count": 108,
   "metadata": {},
   "outputs": [
    {
     "name": "stdout",
     "output_type": "stream",
     "text": [
      "['Surah']\n"
     ]
    },
    {
     "data": {
      "text/plain": [
       "1"
      ]
     },
     "execution_count": 108,
     "metadata": {},
     "output_type": "execute_result"
    }
   ],
   "source": [
    "data = \"Sura I Who believe in the Unseen, Sura Are steadfast in prayer, And spend Sura out of what We Have provided for them;\"\n",
    "\n",
    "myStr=[\"Surah\"]\n",
    "print(myStr)\n",
    "len(myStr)"
   ]
  },
  {
   "cell_type": "code",
   "execution_count": null,
   "metadata": {},
   "outputs": [],
   "source": []
  }
 ],
 "metadata": {
  "kernelspec": {
   "display_name": "Python 3",
   "language": "python",
   "name": "python3"
  },
  "language_info": {
   "codemirror_mode": {
    "name": "ipython",
    "version": 3
   },
   "file_extension": ".py",
   "mimetype": "text/x-python",
   "name": "python",
   "nbconvert_exporter": "python",
   "pygments_lexer": "ipython3",
   "version": "3.7.1"
  }
 },
 "nbformat": 4,
 "nbformat_minor": 2
}
