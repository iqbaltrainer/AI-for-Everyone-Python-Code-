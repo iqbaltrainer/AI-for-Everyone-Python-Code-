{
 "cells": [
  {
   "cell_type": "code",
   "execution_count": 1,
   "metadata": {},
   "outputs": [
    {
     "name": "stdout",
     "output_type": "stream",
     "text": [
      "Enter first number?5445\n",
      "Enter second number?552\n",
      "Numbers Are Not Equal\n",
      "First Number Is Greater\n"
     ]
    }
   ],
   "source": [
    "user1 = int(input(\"Enter first number?\"))\n",
    "user2 = int(input(\"Enter second number?\"))\n",
    "if user1 == user2:\n",
    "    print (\"Numbers Are Equal\")\n",
    "else:\n",
    "    print (\"Numbers Are Not Equal\")\n",
    "if user1>user2:\n",
    "    print(\"First Number Is Greater\")\n",
    "else:\n",
    "    print(\" \")\n",
    "if user1<user2:\n",
    "    print(\"Second Number Is Greater\")\n",
    "if user1==user2:\n",
    "    print(\"Both Numbers Are Equal\")\n",
    "\n",
    "    "
   ]
  },
  {
   "cell_type": "code",
   "execution_count": 10,
   "metadata": {},
   "outputs": [
    {
     "name": "stdout",
     "output_type": "stream",
     "text": [
      "Enter first number?8\n",
      "Enter second number?7\n",
      "Numbers Are Not Equal\n",
      "8 > 7\n"
     ]
    }
   ],
   "source": [
    "user1 = int(input(\"Enter first number?\"))\n",
    "user2 = int(input(\"Enter second number?\"))\n",
    "if user1 == user2:\n",
    "    print (\"Numbers Are Equal\")\n",
    "else:\n",
    "    print (\"Numbers Are Not Equal\")\n",
    "if user1>user2:\n",
    "    print(user1,\">\",user2)\n",
    "else:\n",
    "    print(\" \")\n",
    "if user1<user2:\n",
    "    print(user1,\"<\",user2)\n",
    "if user1==user2:\n",
    "    print(user1,\"=\",user2)"
   ]
  },
  {
   "cell_type": "code",
   "execution_count": null,
   "metadata": {},
   "outputs": [],
   "source": []
  }
 ],
 "metadata": {
  "kernelspec": {
   "display_name": "Python 3",
   "language": "python",
   "name": "python3"
  },
  "language_info": {
   "codemirror_mode": {
    "name": "ipython",
    "version": 3
   },
   "file_extension": ".py",
   "mimetype": "text/x-python",
   "name": "python",
   "nbconvert_exporter": "python",
   "pygments_lexer": "ipython3",
   "version": "3.7.1"
  }
 },
 "nbformat": 4,
 "nbformat_minor": 2
}
