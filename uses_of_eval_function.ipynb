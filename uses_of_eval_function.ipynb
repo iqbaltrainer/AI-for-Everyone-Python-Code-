{
 "cells": [
  {
   "cell_type": "code",
   "execution_count": 1,
   "metadata": {},
   "outputs": [
    {
     "name": "stdout",
     "output_type": "stream",
     "text": [
      "25\n"
     ]
    }
   ],
   "source": [
    "number = eval(\"10*2+5\")\n",
    "print(number)"
   ]
  },
  {
   "cell_type": "code",
   "execution_count": 2,
   "metadata": {},
   "outputs": [
    {
     "name": "stdout",
     "output_type": "stream",
     "text": [
      "Enter expression5+3*2-5\n",
      "6\n"
     ]
    }
   ],
   "source": [
    "n=eval(input(\"Enter expression\")) #expression like 5+3*2-5\n",
    "print(n)"
   ]
  },
  {
   "cell_type": "code",
   "execution_count": 3,
   "metadata": {},
   "outputs": [
    {
     "name": "stdout",
     "output_type": "stream",
     "text": [
      "Enter your list here['fahad', 'faisal', 'nouman', 'shakeel']\n",
      "<class 'list'>\n",
      "['fahad', 'faisal', 'nouman', 'shakeel']\n"
     ]
    }
   ],
   "source": [
    "mylist = eval(input(\"Enter your list here\"))\n",
    "print(type(mylist))\n",
    "print(mylist)\n"
   ]
  },
  {
   "cell_type": "code",
   "execution_count": 4,
   "metadata": {},
   "outputs": [
    {
     "name": "stdout",
     "output_type": "stream",
     "text": [
      "Enter your tuple here('farooq', 'mukhtiar', 'shahzad')\n",
      "<class 'tuple'>\n",
      "('farooq', 'mukhtiar', 'shahzad')\n"
     ]
    }
   ],
   "source": [
    "mytuple = eval(input('Enter your tuple here'))\n",
    "print(type(mytuple))\n",
    "print(mytuple)"
   ]
  },
  {
   "cell_type": "code",
   "execution_count": 5,
   "metadata": {},
   "outputs": [
    {
     "name": "stdout",
     "output_type": "stream",
     "text": [
      "Enter your dictionary here{1:\"nouman\", 2:\"shakeel\", 3:\"asif\"}\n",
      "<class 'dict'>\n",
      "{1: 'nouman', 2: 'shakeel', 3: 'asif'}\n"
     ]
    }
   ],
   "source": [
    "mydict = eval(input(\"Enter your dictionary here\"))\n",
    "print(type(mydict))\n",
    "print(mydict)\n"
   ]
  },
  {
   "cell_type": "code",
   "execution_count": null,
   "metadata": {},
   "outputs": [],
   "source": []
  }
 ],
 "metadata": {
  "kernelspec": {
   "display_name": "Python 3",
   "language": "python",
   "name": "python3"
  },
  "language_info": {
   "codemirror_mode": {
    "name": "ipython",
    "version": 3
   },
   "file_extension": ".py",
   "mimetype": "text/x-python",
   "name": "python",
   "nbconvert_exporter": "python",
   "pygments_lexer": "ipython3",
   "version": "3.7.1"
  }
 },
 "nbformat": 4,
 "nbformat_minor": 2
}
