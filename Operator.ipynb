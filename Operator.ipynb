{
 "cells": [
  {
   "cell_type": "markdown",
   "metadata": {},
   "source": [
    "# Arithmetic operators: \n",
    "Arithmetic operators are used to perform mathematical operations like \n",
    "addition, subtraction, multiplication and division.\n",
    "\n",
    "### Addition: adds two operands x + y\n",
    "### Subtraction: subtracts two operands x - y\n",
    "### Multiplication: multiplies two operands x * y\n",
    "### Division (float): divides the first operand by the second x / y\n",
    "### Division (floor): divides the first operand by the second x // y\n",
    "### Modulus: returns the remainder when first operand is divided by the second x % y\n",
    "\n",
    "\n",
    "# Relational Operators: \n",
    "Relational operators compares the values. \n",
    "It either returns True or False according to the condition.\n",
    "\n",
    "### Greater than: True if left operand is greater than the right  x > y\n",
    "### Less than: True if left operand is less than the right  x < y\n",
    "### Equal to: True if both operands are equal  x == y\n",
    "### Not equal to - True if operands are not equal  x != y\n",
    "### Greater than or equal to: True if left operand is greater than or equal to the right  x >= y\n",
    "### Less than or equal to: True if left operand is less than or equal to the right  x <= y\n",
    "\n",
    "# Logical operators: \n",
    "Logical operators perform Logical AND, Logical OR and Logical NOT operations.\n",
    "\n",
    "### Logical AND: True if both the operands are true\tx and y\n",
    "### Logical OR: True if either of the operands is true\tx or y\n",
    "### Logical NOT: True if operand is false\tnot x\n",
    "\n",
    "# Bitwise operators: \n",
    "Bitwise operators acts on bits and performs bit by bit operation.\n",
    "\n",
    "### Bitwise AND\tx & y\n",
    "### Bitwise OR\tx | y\n",
    "### Bitwise NOT\t~x\n",
    "### Bitwise XOR\tx ^ y\n",
    "### Bitwise right shift\tx>>\n",
    "### Bitwise left shift\tx<\n",
    "\n",
    "# Assignment operators: \n",
    "Assignment operators are used to assign values to the variables.\n",
    "\n",
    "### Assign value of right side of expression to left side operand\tx = y + z\n",
    "### Add AND: Add right side operand with left side operand and then assign to left operand\ta+=b     a=a+b\n",
    "### Subtract AND: Subtract right operand from left operand and then assign to left operand\ta-=b       a=a-b\n",
    "### Multiply AND: Multiply right operand with left operand and then assign to left operand\ta*=b       a=a*b\n",
    "### Divide AND: Divide left operand with right operand and then assign to left operand\ta/=b         a=a/b\n",
    "### Modulus AND: Takes modulus using left and right operands and assign result to left operand\ta%=b   a=a%b\n",
    "### Divide(floor) AND: Divide left operand with right operand and then assign the value(floor) to left operand\ta//=b       a=a//b\n",
    "### Exponent AND: Calculate exponent(raise power) value using operands and assign value to left operand\ta**=b     a=a**b\n",
    "### Performs Bitwise AND on operands and assign value to left operand\ta&=b     a=a&b\n",
    "### Performs Bitwise OR on operands and assign value to left operand\ta|=b         a=a|b\n",
    "### Performs Bitwise xOR on operands and assign value to left operand\ta^=b       a=a^b\n",
    "### Performs Bitwise right shift on operands and assign value to left operand\ta>>=b     a=a>>b\n",
    "### Performs Bitwise left shift on operands and assign value to left operand\ta <<= b                    a= a << b\n",
    "\n",
    "# Special operators: \n",
    "There are some special type of operators like-\n",
    "\n",
    "## Identity operators- \n",
    "\n",
    "### is and \n",
    "### is not \n",
    "are the identity operators both are used to check if two values are located on the same part of the memory. Two variables that are equal does not imply that they are identical.\n",
    "\n",
    "## Membership operators-\n",
    "\n",
    "### in and \n",
    "### not in \n",
    "are the membership operators; used to test whether a value or variable is in a sequence."
   ]
  },
  {
   "cell_type": "code",
   "execution_count": 2,
   "metadata": {},
   "outputs": [
    {
     "name": "stdout",
     "output_type": "stream",
     "text": [
      "13\n",
      "5\n",
      "36\n",
      "2.25\n",
      "2\n",
      "1\n"
     ]
    }
   ],
   "source": [
    "# Examples of Arithmetic Operator \n",
    "a = 9\n",
    "b = 4\n",
    "# Addition of numbers \n",
    "add = a + b \n",
    "# Subtraction of numbers  \n",
    "sub = a - b \n",
    "# Multiplication of number  \n",
    "mul = a * b \n",
    "# Division(float) of number  \n",
    "div1 = a / b \n",
    "# Division(floor) of number  \n",
    "div2 = a // b \n",
    "# Modulo of both number \n",
    "mod = a % b \n",
    "# print results \n",
    "print(add) \n",
    "print(sub) \n",
    "print(mul) \n",
    "print(div1) \n",
    "print(div2) \n",
    "print(mod)"
   ]
  },
  {
   "cell_type": "code",
   "execution_count": 3,
   "metadata": {},
   "outputs": [
    {
     "name": "stdout",
     "output_type": "stream",
     "text": [
      "False\n",
      "True\n",
      "False\n",
      "True\n",
      "False\n",
      "True\n"
     ]
    }
   ],
   "source": [
    "# Examples of Relational Operators \n",
    "a = 13\n",
    "b = 33\n",
    "  \n",
    "# a > b is False \n",
    "print(a > b) \n",
    "  \n",
    "# a < b is True \n",
    "print(a < b) \n",
    "  \n",
    "# a == b is False \n",
    "print(a == b) \n",
    "  \n",
    "# a != b is True \n",
    "print(a != b) \n",
    "  \n",
    "# a >= b is False \n",
    "print(a >= b) \n",
    "  \n",
    "# a <= b is True \n",
    "print(a <= b) "
   ]
  },
  {
   "cell_type": "code",
   "execution_count": 4,
   "metadata": {},
   "outputs": [
    {
     "name": "stdout",
     "output_type": "stream",
     "text": [
      "False\n",
      "True\n",
      "False\n"
     ]
    }
   ],
   "source": [
    "# Examples of Logical Operator \n",
    "a = True\n",
    "b = False\n",
    "  \n",
    "# Print a and b is False \n",
    "print(a and b) \n",
    "  \n",
    "# Print a or b is True \n",
    "print(a or b) \n",
    "  \n",
    "# Print not a is False \n",
    "print(not a) "
   ]
  },
  {
   "cell_type": "code",
   "execution_count": 5,
   "metadata": {},
   "outputs": [
    {
     "name": "stdout",
     "output_type": "stream",
     "text": [
      "0\n",
      "14\n",
      "-11\n",
      "14\n",
      "2\n",
      "40\n"
     ]
    }
   ],
   "source": [
    "# Examples of Bitwise operators \n",
    "a = 10\n",
    "b = 4\n",
    "  \n",
    "# Print bitwise AND operation   \n",
    "print(a & b) \n",
    "  \n",
    "# Print bitwise OR operation \n",
    "print(a | b) \n",
    "  \n",
    "# Print bitwise NOT operation  \n",
    "print(~a) \n",
    "  \n",
    "# print bitwise XOR operation  \n",
    "print(a ^ b) \n",
    "  \n",
    "# print bitwise right shift operation  \n",
    "print(a >> 2) \n",
    "  \n",
    "# print bitwise left shift operation  \n",
    "print(a << 2) "
   ]
  },
  {
   "cell_type": "code",
   "execution_count": 8,
   "metadata": {},
   "outputs": [
    {
     "name": "stdout",
     "output_type": "stream",
     "text": [
      "False\n",
      "True\n",
      "False\n"
     ]
    }
   ],
   "source": [
    "# Examples of Identity operators \n",
    "a1 = 3\n",
    "b1 = 3\n",
    "a2 = 'AIforEveryone'\n",
    "b2 = 'AIforEveryone'\n",
    "a3 = [1,2,3] \n",
    "b3 = [1,2,3] \n",
    "  \n",
    "  \n",
    "print(a1 is not b1) \n",
    "  \n",
    "  \n",
    "print(a2 is b2) \n",
    "  \n",
    "# Output is False, since lists are mutable. \n",
    "print(a3 is b3) "
   ]
  },
  {
   "cell_type": "code",
   "execution_count": 10,
   "metadata": {},
   "outputs": [
    {
     "name": "stdout",
     "output_type": "stream",
     "text": [
      "True\n",
      "False\n",
      "True\n",
      "False\n"
     ]
    }
   ],
   "source": [
    "# Examples of Membership operator \n",
    "x = 'AI FOR EVERYONE'\n",
    "y = {3:'a',4:'b'} \n",
    "  \n",
    "print('AI' in x) \n",
    "  \n",
    "print('EVERYONE' not in x) \n",
    "  \n",
    "print(3 in y) \n",
    "  \n",
    "print('b' in y)"
   ]
  },
  {
   "cell_type": "code",
   "execution_count": null,
   "metadata": {},
   "outputs": [],
   "source": []
  }
 ],
 "metadata": {
  "kernelspec": {
   "display_name": "Python 3",
   "language": "python",
   "name": "python3"
  },
  "language_info": {
   "codemirror_mode": {
    "name": "ipython",
    "version": 3
   },
   "file_extension": ".py",
   "mimetype": "text/x-python",
   "name": "python",
   "nbconvert_exporter": "python",
   "pygments_lexer": "ipython3",
   "version": "3.7.1"
  }
 },
 "nbformat": 4,
 "nbformat_minor": 2
}
