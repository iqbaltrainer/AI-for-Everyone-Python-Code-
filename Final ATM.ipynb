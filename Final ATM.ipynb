{
 "cells": [
  {
   "cell_type": "code",
   "execution_count": 1,
   "metadata": {},
   "outputs": [
    {
     "name": "stdout",
     "output_type": "stream",
     "text": [
      "Enter Your ID Number 1234\n",
      "Enter Your Password 2000\n",
      "Access Granted\n",
      "Welcome to Banking System\n",
      "Press 1 for Deposit Cash\n",
      "Press 2 for Withdraw Cash\n",
      "Press 3 for Checking balance\n",
      "Exit\n",
      "1\n",
      "Enter your amount to Deposit: 500\n",
      "Deposit: 100500\n"
     ]
    }
   ],
   "source": [
    "a=int(input(\"Enter Your ID Number \"))\n",
    "b=int(input(\"Enter Your Password \"))\n",
    "\n",
    "if a==1234 and b==2000:\n",
    "    print(\"Access Granted\")\n",
    "    \n",
    "else:\n",
    "    print(\"Invalid Password \")\n",
    "\n",
    "amount=100000\n",
    "\n",
    "print(\"Welcome to Banking System\")\n",
    "print (\"Press 1 for Deposit Cash\")\n",
    "print(\"Press 2 for Withdraw Cash\")\n",
    "print(\"Press 3 for Checking balance\")\n",
    "print(\"Exit\")\n",
    "\n",
    "inp1=int(input(\"\"))\n",
    "if inp1==1:\n",
    "    inp2=int(input(\"Enter your amount to Deposit: \"))\n",
    "    Deposit=amount+inp2\n",
    "\n",
    "    print(\"Deposit:\", Deposit)\n",
    "##else:\n",
    "  ##  print(\"Hello\")\n",
    "\n",
    "elif inp1==2:   \n",
    "    inp2=int(input(\"Enter your amount to withdraw: \"))\n",
    "    withdraw=amount-inp2\n",
    "    print(\"Your remaining balance is:\", withdraw)\n",
    "    \n",
    "\n",
    "elif inp1==3:   \n",
    "\n",
    "  print(\"Your current balance is:\",  amount)\n",
    "\n",
    "elif inp1==4:\n",
    "    print()\n",
    "   \n",
    "    "
   ]
  },
  {
   "cell_type": "code",
   "execution_count": null,
   "metadata": {},
   "outputs": [],
   "source": []
  },
  {
   "cell_type": "code",
   "execution_count": null,
   "metadata": {},
   "outputs": [],
   "source": []
  }
 ],
 "metadata": {
  "kernelspec": {
   "display_name": "Python 3",
   "language": "python",
   "name": "python3"
  },
  "language_info": {
   "codemirror_mode": {
    "name": "ipython",
    "version": 3
   },
   "file_extension": ".py",
   "mimetype": "text/x-python",
   "name": "python",
   "nbconvert_exporter": "python",
   "pygments_lexer": "ipython3",
   "version": "3.7.1"
  }
 },
 "nbformat": 4,
 "nbformat_minor": 2
}
